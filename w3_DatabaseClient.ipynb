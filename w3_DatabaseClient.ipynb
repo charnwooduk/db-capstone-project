{
 "cells": [
  {
   "cell_type": "code",
   "execution_count": 1,
   "id": "2b1a9908",
   "metadata": {},
   "outputs": [
    {
     "name": "stdout",
     "output_type": "stream",
     "text": [
      "Requirement already satisfied: mysql-connector-python in c:\\users\\richardswindells\\documents\\meta-course\\.venv\\lib\\site-packages (8.0.33)\n",
      "Requirement already satisfied: protobuf<=3.20.3,>=3.11.0 in c:\\users\\richardswindells\\documents\\meta-course\\.venv\\lib\\site-packages (from mysql-connector-python) (3.20.3)\n"
     ]
    }
   ],
   "source": [
    "!pip install mysql-connector-python"
   ]
  },
  {
   "cell_type": "code",
   "execution_count": 3,
   "id": "99d48199",
   "metadata": {},
   "outputs": [],
   "source": [
    "# Import MySQL Connector/Python \n",
    "import mysql.connector as connector\n",
    "connection=connector.connect(user=\"root\",password=\"P0llyp9lly./\", database=\"littlelemondb\")"
   ]
  },
  {
   "cell_type": "code",
   "execution_count": 5,
   "id": "7bb28957",
   "metadata": {},
   "outputs": [],
   "source": [
    "cursor = connection.cursor()\n",
    "show_tables_query = \"SHOW tables\" \n",
    "cursor.execute(show_tables_query)"
   ]
  },
  {
   "cell_type": "code",
   "execution_count": 6,
   "id": "ab4b1d34",
   "metadata": {},
   "outputs": [
    {
     "name": "stdout",
     "output_type": "stream",
     "text": [
      "[('bookings',), ('customer',), ('menu',), ('orders',), ('orderstatus',), ('ordersview',), ('staff',)]\n"
     ]
    }
   ],
   "source": [
    "result=cursor.fetchall()\n",
    "print (result)"
   ]
  },
  {
   "cell_type": "code",
   "execution_count": 11,
   "id": "a963ae1d",
   "metadata": {},
   "outputs": [
    {
     "name": "stdout",
     "output_type": "stream",
     "text": [
      "('Gail Porter', 'Charnwood Way', 'York', 'United Kingdom', 'gail@twitter.com', '43767437', Decimal('178.00'), 'Italian')\n",
      "('Harry Windsor', 'Epsom Grove', 'Bristol', 'United Kingdom', 'harry@meghan.com', '34643743', Decimal('304.00'), 'American')\n"
     ]
    }
   ],
   "source": [
    "querystring = \"\"\"\n",
    "select  \n",
    "\tname as FullName,\n",
    "\tc.address, \n",
    "    c.city, \n",
    "    c.country, \n",
    "    c.email, \n",
    "    c.phone,  \n",
    "    cast((quantity * price) as decimal(7,2)) as Cost, \n",
    "    m.Cuisine as MenuName \n",
    "from orders o \n",
    "join menu m on o.menu_id = m.menu_id \n",
    "join bookings b on o.booking_id = b.booking_id\n",
    "join customer c on b.customer_id = c.customer_id\n",
    "where quantity * price > 60\n",
    "order by quantity * price ;\n",
    "\"\"\"\n",
    "\n",
    "cursor.execute(querystring);\n",
    "result = cursor.fetchall()\n",
    "for item in result:\n",
    "    print(item)"
   ]
  },
  {
   "cell_type": "code",
   "execution_count": null,
   "id": "d5141e7f",
   "metadata": {},
   "outputs": [],
   "source": []
  }
 ],
 "metadata": {
  "kernelspec": {
   "display_name": "Python 3 (ipykernel)",
   "language": "python",
   "name": "python3"
  },
  "language_info": {
   "codemirror_mode": {
    "name": "ipython",
    "version": 3
   },
   "file_extension": ".py",
   "mimetype": "text/x-python",
   "name": "python",
   "nbconvert_exporter": "python",
   "pygments_lexer": "ipython3",
   "version": "3.11.3"
  }
 },
 "nbformat": 4,
 "nbformat_minor": 5
}
